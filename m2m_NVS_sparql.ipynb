{
 "cells": [
  {
   "cell_type": "markdown",
   "id": "91fb3557-decf-45a1-8eae-a7ee90808e5b",
   "metadata": {},
   "source": [
    "## Retrieve NVS collection properties using the VocPrez SPARQL Endpoint"
   ]
  },
  {
   "cell_type": "markdown",
   "id": "e547446f-47d5-4bb1-ac49-0200c2525378",
   "metadata": {},
   "source": [
    "***\n",
    "##### _Use __'altLabel'__ for:_\n",
    "> ##### _R03, R04, R05, R06, R07, R08, R09, <br> R10, R11, R12, R13, R15, R19, <br> R20, R21, R22, R23, R24, R25, R26, R27, R28, <br> R40, RD2, RMC, RP2, RR2, RTV_\n",
    "\n",
    "##### _Use __'prefLabel'__ for:_\n",
    "> ##### _R01, R14*, R16, R18*_\n",
    "*correspondence not consistent as some concepts include templates\n",
    "***"
   ]
  },
  {
   "cell_type": "markdown",
   "id": "a09e5a1b-36b7-4e16-bd03-8ee57a2ac615",
   "metadata": {},
   "source": [
    "#### Import modules"
   ]
  },
  {
   "cell_type": "code",
   "execution_count": 29,
   "id": "2b190702",
   "metadata": {},
   "outputs": [],
   "source": [
    "import os\n",
    "from typing import Dict, List\n",
    "import requests\n",
    "\n",
    "# Define NVS host\n",
    "\n",
    "VOCAB_HOST = os.environ.get(\"VOCAB_HOST\", \"http://vocab.nerc.ac.uk\")"
   ]
  },
  {
   "cell_type": "markdown",
   "id": "4ba5d50d-fc8c-4280-b08f-1b7acee2046d",
   "metadata": {},
   "source": [
    "#### Generate a SPARQL query for retrieving vocabulary data\n",
    "\n",
    "##### _Edit to switch between 'prefLabel' and 'altLabel'_"
   ]
  },
  {
   "cell_type": "code",
   "execution_count": 30,
   "id": "23a0eace",
   "metadata": {},
   "outputs": [],
   "source": [
    "def get_sparql_query(vocab_host: str, vocab_id: str) -> str:\n",
    "    \"\"\"Generates a SPARQL query for retrieving vocab data.\n",
    "\n",
    "    Args:\n",
    "        vocab_host (str): e.g. http://vocab.nerc.ac.uk\n",
    "        vocab_id (str): e.g. P01, L22, etc.\n",
    "\n",
    "    Returns:\n",
    "        str: SPARQL query created based on input params.\n",
    "    \"\"\"\n",
    "    sparql_query = \"\"\"\n",
    "    PREFIX skos: <http://www.w3.org/2004/02/skos/core#>\n",
    "    PREFIX owl: <http://www.w3.org/2002/07/owl#>\n",
    "    SELECT DISTINCT (?c as ?uri) (?pl as ?altLabel)         # Switch\n",
    "    WHERE {{\n",
    "        <{0}/collection/{1}/current/> skos:member ?c .\n",
    "        ?c skos:altLabel ?pl .                              # Switch\n",
    "        ?c owl:deprecated ?isDeprecated .\n",
    "        FILTER (?isDeprecated = \"false\") .\n",
    "    }}\n",
    "    ORDER BY ?pl\n",
    "    \"\"\"\n",
    "    return sparql_query.format(vocab_host, vocab_id)"
   ]
  },
  {
   "cell_type": "markdown",
   "id": "408390cc-de36-4513-9e0e-edc2b3deb8e8",
   "metadata": {},
   "source": [
    "#### Retrieves data for a given vocabulary\n",
    "##### _Edit to switch between 'prefLabel' and 'altLabel'_"
   ]
  },
  {
   "cell_type": "code",
   "execution_count": 31,
   "id": "dce4a38b",
   "metadata": {},
   "outputs": [],
   "source": [
    "def get_vocab_data(vocab_host: str, vocab_id: str) -> List[Dict]:\n",
    "    \"\"\"Retrieves data for a given vocab.\n",
    "\n",
    "    Args:\n",
    "        vocab_host (str): Where to fetch the data from, e.g. http://vocab.nerc.ac.uk\n",
    "        vocab_id (str): Which vocab to fetch, e.g. L22\n",
    "\n",
    "    Returns:\n",
    "        List[Dict]: JSON data containing all terms in the specified vocab.\n",
    "    \"\"\"\n",
    "    query_url = f\"{vocab_host}/sparql/sparql\"\n",
    "    query = get_sparql_query(vocab_host, vocab_id)\n",
    "\n",
    "    resp = requests.post(query_url, data=query, headers={\"Content-Type\": \"application/sparql-query\"}, timeout=60)\n",
    "    results = [\n",
    "        x[\"altLabel\"][\"value\"] for x in resp.json()[\"results\"][\"bindings\"]              # Switch\n",
    "    ]\n",
    "    return results"
   ]
  },
  {
   "cell_type": "markdown",
   "id": "5e41664f-d9f4-4f95-a0cf-99c3fc0e6f62",
   "metadata": {},
   "source": [
    "#### Print the results\n",
    "##### _Edit to select the desired Vocabulary_"
   ]
  },
  {
   "cell_type": "code",
   "execution_count": 32,
   "id": "9f2640aa",
   "metadata": {},
   "outputs": [
    {
     "name": "stdout",
     "output_type": "stream",
     "text": [
      "['BBP', 'BBP470', 'BBP532', 'BBP700', 'BETA_BACKSCATTERING', 'BETA_BACKSCATTERING470', 'BETA_BACKSCATTERING532', 'BETA_BACKSCATTERING700', 'BISULFIDE', 'BPHASE_DOXY', 'C1PHASE_DOXY', 'C2PHASE_DOXY', 'CDOM', 'CHLA', 'CHLA_FLUORESCENCE', 'CNDC', 'COUNT_DOXY', 'CP', 'CP660', 'DOWNWELLING_PAR', 'DOWN_IRRADIANCE', 'DOWN_IRRADIANCE380', 'DOWN_IRRADIANCE412', 'DOWN_IRRADIANCE443', 'DOWN_IRRADIANCE490', 'DOWN_IRRADIANCE555', 'DOXY', 'DPHASE_DOXY', 'FIT_ERROR_NITRATE', 'FLUORESCENCE_CDOM', 'FLUORESCENCE_CHLA', 'FREQUENCY_DOXY', 'HUMIDITY_NITRATE', 'IB_PH', 'IK_PH', 'LED_FLASHING_COUNT_DOXY', 'MLPL_DOXY', 'MOLAR_DOXY', 'MOLAR_NITRATE', 'MTIME', 'NB_SAMPLE', 'NB_SAMPLE_CROVER', 'NB_SAMPLE_CTD', 'NB_SAMPLE_CYC', 'NB_SAMPLE_DURAFET', 'NB_SAMPLE_ECO', 'NB_SAMPLE_ISUS', 'NB_SAMPLE_MCOMS', 'NB_SAMPLE_OCR', 'NB_SAMPLE_OPTODE', 'NB_SAMPLE_STM', 'NB_SAMPLE_SUNA', 'NITRATE', 'PHASE_DELAY_DOXY', 'PH_IN_SITU_FREE', 'PH_IN_SITU_SEAWATER', 'PH_IN_SITU_TOTAL', 'PPOX_DOXY', 'PRES', 'PSAL', 'RAW_DOWNWELLING_IRRADIANCE', 'RAW_DOWNWELLING_IRRADIANCE380', 'RAW_DOWNWELLING_IRRADIANCE412', 'RAW_DOWNWELLING_IRRADIANCE443', 'RAW_DOWNWELLING_IRRADIANCE490', 'RAW_DOWNWELLING_IRRADIANCE555', 'RAW_DOWNWELLING_PAR', 'RAW_UPWELLING_RADIANCE', 'RAW_UPWELLING_RADIANCE412', 'RAW_UPWELLING_RADIANCE443', 'RAW_UPWELLING_RADIANCE490', 'RAW_UPWELLING_RADIANCE555', 'RPHASE_DOXY', 'SIDE_SCATTERING_TURBIDITY', 'TEMP', 'TEMP_CNDC', 'TEMP_COUNT_DOXY', 'TEMP_CPU_CHLA', 'TEMP_DOXY', 'TEMP_NITRATE', 'TEMP_PH', 'TEMP_SPECTROPHOTOMETER_NITRATE', 'TEMP_VOLTAGE_DOXY', 'TILT', 'TPHASE_DOXY', 'TRANSMITTANCE_PARTICLE_BEAM_ATTENUATION', 'TRANSMITTANCE_PARTICLE_BEAM_ATTENUATION660', 'TURBIDITY', 'UP_RADIANCE', 'UP_RADIANCE412', 'UP_RADIANCE443', 'UP_RADIANCE490', 'UP_RADIANCE555', 'UV_INTENSITY_DARK_NITRATE', 'UV_INTENSITY_DARK_SEAWATER_NITRATE', 'UV_INTENSITY_NITRATE', 'VK_PH', 'VOLTAGE_DOXY', 'VRS_PH']\n"
     ]
    }
   ],
   "source": [
    "results = get_vocab_data(VOCAB_HOST,'R03')        # Edit\n",
    "\n",
    "print(results)"
   ]
  },
  {
   "cell_type": "code",
   "execution_count": null,
   "id": "466619c3-72dc-4b1a-a1a9-ae46b894b43d",
   "metadata": {},
   "outputs": [],
   "source": []
  }
 ],
 "metadata": {
  "kernelspec": {
   "display_name": "Python 3 (ipykernel)",
   "language": "python",
   "name": "python3"
  },
  "language_info": {
   "codemirror_mode": {
    "name": "ipython",
    "version": 3
   },
   "file_extension": ".py",
   "mimetype": "text/x-python",
   "name": "python",
   "nbconvert_exporter": "python",
   "pygments_lexer": "ipython3",
   "version": "3.9.13"
  }
 },
 "nbformat": 4,
 "nbformat_minor": 5
}
